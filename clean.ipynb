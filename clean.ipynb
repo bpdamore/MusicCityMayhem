{
 "metadata": {
  "language_info": {
   "codemirror_mode": {
    "name": "ipython",
    "version": 3
   },
   "file_extension": ".py",
   "mimetype": "text/x-python",
   "name": "python",
   "nbconvert_exporter": "python",
   "pygments_lexer": "ipython3",
   "version": "3.7.7-final"
  },
  "orig_nbformat": 2,
  "kernelspec": {
   "name": "python3",
   "display_name": "Python 3"
  }
 },
 "nbformat": 4,
 "nbformat_minor": 2,
 "cells": [
  {
   "cell_type": "code",
   "execution_count": 2,
   "metadata": {},
   "outputs": [],
   "source": [
    "import pandas as pd"
   ]
  },
  {
   "cell_type": "code",
   "execution_count": 39,
   "metadata": {},
   "outputs": [],
   "source": [
    "df15 = pd.read_csv(\"resources/Traffic_Accidents__2015_.csv\")\n",
    "df16 = pd.read_csv(\"resources/Traffic_Accidents__2016_.csv\")\n",
    "df17 = pd.read_csv(\"resources/Traffic_Accidents__2017_.csv\")\n",
    "df18 = pd.read_csv(\"resources/Traffic_Accidents__2018_.csv\")\n",
    "df19 = pd.read_csv(\"resources/Traffic_Accidents__2019_.csv\")"
   ]
  },
  {
   "cell_type": "code",
   "execution_count": 41,
   "metadata": {},
   "outputs": [],
   "source": [
    "df15[\"Year\"] = 2015\n",
    "df16[\"Year\"] = 2016\n",
    "df17[\"Year\"] = 2017\n",
    "df18[\"Year\"] = 2018\n",
    "df19[\"Year\"] = 2019"
   ]
  },
  {
   "cell_type": "code",
   "execution_count": 42,
   "metadata": {},
   "outputs": [],
   "source": [
    "df18 = df18.rename(columns={'Collision Type Code':'Collision Type', 'Weather Code':'Weather','Illumination Code':'Illumination','Harmful Code':'Harmful Codes','Harmful Code Description':'Harmful Codes Description','New Georeferenced Column':'Mapped Location'})"
   ]
  },
  {
   "cell_type": "code",
   "execution_count": 43,
   "metadata": {},
   "outputs": [],
   "source": [
    "df19 = df19.rename(columns={'Collision Type Code':'Collision Type', 'Weather Code':'Weather','Illumination Code':'Illumination','Harmful Code':'Harmful Codes','Harmful Code Description':'Harmful Codes Description'})"
   ]
  },
  {
   "cell_type": "code",
   "execution_count": 44,
   "metadata": {
    "tags": []
   },
   "outputs": [],
   "source": [
    "data = pd.concat([df15,df16,df17,df18,df19])"
   ]
  },
  {
   "cell_type": "code",
   "execution_count": 46,
   "metadata": {},
   "outputs": [],
   "source": [
    "data.to_csv(\"data/Accidents_2015-2019.csv\")"
   ]
  },
  {
   "cell_type": "code",
   "execution_count": null,
   "metadata": {},
   "outputs": [],
   "source": []
  }
 ]
}