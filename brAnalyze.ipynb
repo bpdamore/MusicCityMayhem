{
 "metadata": {
  "language_info": {
   "codemirror_mode": {
    "name": "ipython",
    "version": 3
   },
   "file_extension": ".py",
   "mimetype": "text/x-python",
   "name": "python",
   "nbconvert_exporter": "python",
   "pygments_lexer": "ipython3",
   "version": "3.7.4-final"
  },
  "orig_nbformat": 2,
  "kernelspec": {
   "name": "python3",
   "display_name": "Python 3"
  }
 },
 "nbformat": 4,
 "nbformat_minor": 2,
 "cells": [
  {
   "cell_type": "code",
   "execution_count": 2,
   "metadata": {},
   "outputs": [],
   "source": [
    "import pandas as pd"
   ]
  },
  {
   "cell_type": "markdown",
   "metadata": {},
   "source": [
    "# Observations\n",
    "It looks like the 35 injuries was a bus or something driving off of a highway ramp."
   ]
  },
  {
   "cell_type": "code",
   "execution_count": 3,
   "metadata": {},
   "outputs": [
    {
     "output_type": "execute_result",
     "data": {
      "text/plain": "Index(['Unnamed: 0', 'Accident Number', 'Date and Time',\n       'Number of Motor Vehicles', 'Number of Injuries',\n       'Number of Fatalities', 'Property Damage', 'Hit and Run',\n       'Reporting Officer', 'Collision Type', 'Collision Type Description',\n       'Weather', 'Weather Description', 'Illumination',\n       'Illumination Description', 'Harmful Codes',\n       'Harmful Codes Description', 'Street Address', 'City', 'State', 'ZIP',\n       'RPA', 'Precinct', 'Latitude', 'Longitude', 'Mapped Location', 'Year'],\n      dtype='object')"
     },
     "metadata": {},
     "execution_count": 3
    }
   ],
   "source": [
    "df = pd.read_csv(\"data/Accidents_2015-2019.csv\")\n",
    "df.columns"
   ]
  },
  {
   "cell_type": "code",
   "execution_count": 4,
   "metadata": {},
   "outputs": [
    {
     "output_type": "execute_result",
     "data": {
      "text/plain": "CLEAR                     119362\nCLOUDY                     24459\nRAIN                       22783\nUNKNOWN                     1560\nSNOW                        1460\nFOG                          379\nSLEET, HAIL                  341\nOTHER (NARRATIVE)             96\nBLOWING SNOW                  53\nSEVERE CROSSWIND              20\nSMOG, SMOKE                   19\nBLOWING SAND/SOIL/DIRT         1\nName: Weather Description, dtype: int64"
     },
     "metadata": {},
     "execution_count": 4
    }
   ],
   "source": [
    "df[\"Weather Description\"].value_counts()"
   ]
  },
  {
   "cell_type": "code",
   "execution_count": 4,
   "metadata": {},
   "outputs": [
    {
     "output_type": "execute_result",
     "data": {
      "text/plain": "0     125280\n1      33176\n2       8678\n3       2396\n4        804\n5        312\n6        111\n7         50\n8         28\n9         10\n10         8\n16         2\n35         1\n13         1\n12         1\nName: Number of Injuries, dtype: int64"
     },
     "metadata": {},
     "execution_count": 4
    }
   ],
   "source": [
    "df[\"Number of Injuries\"].value_counts().head(25)"
   ]
  },
  {
   "cell_type": "code",
   "execution_count": 5,
   "metadata": {},
   "outputs": [],
   "source": [
    "pd.set_option('display.max_colwidth', -1)"
   ]
  },
  {
   "cell_type": "code",
   "execution_count": 6,
   "metadata": {},
   "outputs": [],
   "source": [
    "bigdf = df.loc[df['Number of Injuries'] == 35]"
   ]
  },
  {
   "cell_type": "code",
   "execution_count": 7,
   "metadata": {},
   "outputs": [
    {
     "output_type": "execute_result",
     "data": {
      "text/plain": "       Collision Type               Collision Type Description  Weather  \\\n55847  0.0             NOT COLLISION W/MOTOR VEHICLE-TRANSPORT  21.0      \n\n      Weather Description  Illumination Illumination Description  \\\n55847  CLEAR               1.0           DAYLIGHT                  \n\n       Harmful Codes  \\\n55847  1;24;29;63;64   \n\n                                                         Harmful Codes Description  \n55847  GUARDRAIL FACE;LUMINAIRE/LIGHT SUPPORT;Ran Off Road-Right;Ran Off Road-Left  ",
      "text/html": "<div>\n<style scoped>\n    .dataframe tbody tr th:only-of-type {\n        vertical-align: middle;\n    }\n\n    .dataframe tbody tr th {\n        vertical-align: top;\n    }\n\n    .dataframe thead th {\n        text-align: right;\n    }\n</style>\n<table border=\"1\" class=\"dataframe\">\n  <thead>\n    <tr style=\"text-align: right;\">\n      <th></th>\n      <th>Collision Type</th>\n      <th>Collision Type Description</th>\n      <th>Weather</th>\n      <th>Weather Description</th>\n      <th>Illumination</th>\n      <th>Illumination Description</th>\n      <th>Harmful Codes</th>\n      <th>Harmful Codes Description</th>\n    </tr>\n  </thead>\n  <tbody>\n    <tr>\n      <td>55847</td>\n      <td>0.0</td>\n      <td>NOT COLLISION W/MOTOR VEHICLE-TRANSPORT</td>\n      <td>21.0</td>\n      <td>CLEAR</td>\n      <td>1.0</td>\n      <td>DAYLIGHT</td>\n      <td>1;24;29;63;64</td>\n      <td>GUARDRAIL FACE;LUMINAIRE/LIGHT SUPPORT;Ran Off Road-Right;Ran Off Road-Left</td>\n    </tr>\n  </tbody>\n</table>\n</div>"
     },
     "metadata": {},
     "execution_count": 7
    }
   ],
   "source": [
    "bigdf[['Collision Type', 'Collision Type Description',\n",
    "       'Weather', 'Weather Description', 'Illumination',\n",
    "       'Illumination Description', 'Harmful Codes',\n",
    "       'Harmful Codes Description']]"
   ]
  },
  {
   "cell_type": "code",
   "execution_count": 8,
   "metadata": {},
   "outputs": [
    {
     "output_type": "execute_result",
     "data": {
      "text/plain": "              Street Address       City State      ZIP     RPA Precinct  \\\n55847  I65 N EXT RAMP & I 65  NASHVILLE  TN    37207.0  1863.0  EAST      \n\n       Latitude  Longitude           Mapped Location  Year  \n55847  36.2057  -86.7747    POINT (-86.7747 36.2057)  2016  ",
      "text/html": "<div>\n<style scoped>\n    .dataframe tbody tr th:only-of-type {\n        vertical-align: middle;\n    }\n\n    .dataframe tbody tr th {\n        vertical-align: top;\n    }\n\n    .dataframe thead th {\n        text-align: right;\n    }\n</style>\n<table border=\"1\" class=\"dataframe\">\n  <thead>\n    <tr style=\"text-align: right;\">\n      <th></th>\n      <th>Street Address</th>\n      <th>City</th>\n      <th>State</th>\n      <th>ZIP</th>\n      <th>RPA</th>\n      <th>Precinct</th>\n      <th>Latitude</th>\n      <th>Longitude</th>\n      <th>Mapped Location</th>\n      <th>Year</th>\n    </tr>\n  </thead>\n  <tbody>\n    <tr>\n      <td>55847</td>\n      <td>I65 N EXT RAMP &amp; I 65</td>\n      <td>NASHVILLE</td>\n      <td>TN</td>\n      <td>37207.0</td>\n      <td>1863.0</td>\n      <td>EAST</td>\n      <td>36.2057</td>\n      <td>-86.7747</td>\n      <td>POINT (-86.7747 36.2057)</td>\n      <td>2016</td>\n    </tr>\n  </tbody>\n</table>\n</div>"
     },
     "metadata": {},
     "execution_count": 8
    }
   ],
   "source": [
    "bigdf[['Street Address', 'City', 'State', 'ZIP',\n",
    "       'RPA', 'Precinct', 'Latitude', 'Longitude', 'Mapped Location', 'Year']]"
   ]
  },
  {
   "cell_type": "code",
   "execution_count": 20,
   "metadata": {},
   "outputs": [
    {
     "output_type": "execute_result",
     "data": {
      "text/plain": "Front to Rear                              64244\nANGLE                                      39955\nNOT COLLISION W/MOTOR VEHICLE-TRANSPORT    27990\nSIDESWIPE - SAME DIRECTION                 24991\nSIDESWIPE - OPPOSITE DIRECTION             3759 \nHEAD-ON                                    3549 \nUNKNOWN                                    2157 \nOTHER                                      1994 \nRear to Side                               1283 \nREAR-TO-REAR                               922  \nName: Collision Type Description, dtype: int64"
     },
     "metadata": {},
     "execution_count": 20
    }
   ],
   "source": [
    "df[\"Collision Type Description\"].value_counts()"
   ]
  },
  {
   "cell_type": "code",
   "execution_count": 5,
   "metadata": {},
   "outputs": [
    {
     "output_type": "execute_result",
     "data": {
      "text/plain": "Front to Rear                              64244\nANGLE                                      39955\nNOT COLLISION W/MOTOR VEHICLE-TRANSPORT    27990\nSIDESWIPE - SAME DIRECTION                 24991\nSIDESWIPE - OPPOSITE DIRECTION              3759\nHEAD-ON                                     3549\nUNKNOWN                                     2157\nOTHER                                       1994\nRear to Side                                1283\nREAR-TO-REAR                                 922\nName: Collision Type Description, dtype: int64"
     },
     "metadata": {},
     "execution_count": 5
    }
   ],
   "source": [
    "df[\"Collision Type Description\"].value_counts()"
   ]
  },
  {
   "cell_type": "code",
   "execution_count": 11,
   "metadata": {},
   "outputs": [
    {
     "output_type": "execute_result",
     "data": {
      "text/plain": "MOTOR VEHICLE IN TRANSPORT                                             126400\nPARKED MOTOR VEHICLE                                                   6049  \nMOTOR VEHICLE IN TRANSPORT;PARKED MOTOR VEHICLE                        2986  \nCONCRETE TRAFFIC BARRIER                                               2105  \nPEDESTRIAN                                                             1977  \nUTILITY POLE                                                           1726  \nOTHER OBJECT (NOT FIXED)                                               1655  \nGUARDRAIL FACE                                                         1471  \nDITCH                                                                  1401  \nDEER (ANIMAL)                                                          1304  \nMOTOR VEHICLE IN TRANSPORT-OTHER ROADWAY                               869   \nMAIL BOX                                                               747   \nMotor Vehicle-In-Motion Outside Trafficw                               690   \nTREE                                                                   676   \nWALL                                                                   631   \nMOTOR VEHICLE IN TRANSPORT;CONCRETE TRAFFIC BARRIER                    607   \nUNKNOWN MOST HARMFUL EVENT                                             591   \nFENCE                                                                  582   \nPARKED MOTOR VEHICLE;Motor Vehicle-In-Motion Outside Trafficw          545   \nCURB                                                                   518   \nTHROWN OR FALLING OBJECT                                               500   \nOTHER FIXED OBJECTS                                                    482   \nBUILDING                                                               457   \nMOTOR VEHICLE IN TRANSPORT;MOTOR VEHICLE IN TRANSPORT-OTHER ROADWAY    414   \nOTHER POST, POLE, SUPP.                                                411   \nName: Harmful Codes Description, dtype: int64"
     },
     "metadata": {},
     "execution_count": 11
    }
   ],
   "source": [
    "df[\"Harmful Codes Description\"].value_counts().head(25)"
   ]
  },
  {
   "cell_type": "code",
   "execution_count": 12,
   "metadata": {},
   "outputs": [],
   "source": [
    "df[\"Month\"] = pd.DatetimeIndex(df[\"Date and Time\"]).month\n",
    "df[\"Day\"] = pd.DatetimeIndex(df[\"Date and Time\"]).day"
   ]
  },
  {
   "cell_type": "code",
   "execution_count": 15,
   "metadata": {},
   "outputs": [],
   "source": [
    "october = df.loc[df[\"Month\"]==10]"
   ]
  },
  {
   "cell_type": "code",
   "execution_count": 16,
   "metadata": {},
   "outputs": [
    {
     "output_type": "execute_result",
     "data": {
      "text/plain": "26    723\n25    596\n24    578\n27    574\n20    556\n19    554\n23    553\n30    549\n14    546\n31    539\n17    537\n4     528\n2     524\n16    519\n18    518\n28    512\n21    511\n11    510\n5     510\n7     494\n15    492\n6     488\n3     486\n12    484\n10    483\n13    475\n8     468\n29    462\n1     460\n22    458\n9     451\nName: Day, dtype: int64"
     },
     "metadata": {},
     "execution_count": 16
    }
   ],
   "source": [
    "october[\"Day\"].value_counts()"
   ]
  },
  {
   "cell_type": "code",
   "execution_count": 14,
   "metadata": {},
   "outputs": [
    {
     "output_type": "execute_result",
     "data": {
      "text/plain": "20    6137\n19    5938\n6     5928\n16    5837\n14    5833\n15    5784\n17    5761\n13    5749\n9     5730\n21    5703\n18    5686\n10    5643\n12    5616\n4     5604\n5     5599\n1     5581\n3     5559\n27    5548\n2     5539\n26    5530\n23    5504\n28    5496\n22    5482\n8     5476\n11    5412\n24    5371\n7     5333\n30    5092\n25    5059\n29    5056\n31    3272\nName: Day, dtype: int64"
     },
     "metadata": {},
     "execution_count": 14
    }
   ],
   "source": [
    "df[\"Day\"].value_counts()"
   ]
  },
  {
   "cell_type": "code",
   "execution_count": null,
   "metadata": {},
   "outputs": [],
   "source": []
  }
 ]
}